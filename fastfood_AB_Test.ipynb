{
 "cells": [
  {
   "cell_type": "markdown",
   "id": "ac4abb0c",
   "metadata": {},
   "source": [
    "# FAST FOOD MARKETING CAMPAIGN A/B TEST\n",
    "\n",
    "The data is from Kaggle, IBM Watson Analytics Marketing Campaign\n",
    "\n",
    "- A fast-food chain plans to add a new item to its menu. However, they are still undecided between three possible marketing campaigns for promoting the new product. In order to determine which promotion has the greatest effect on sales, the new item is introduced at locations in several randomly selected markets. A different promotion is used at each location, and the weekly sales of the new item are recorded for the first four weeks.\n",
    "\n",
    "### Goal\n",
    "- Evaluate A/B testing results and decide which marketing strategy works the best"
   ]
  },
  {
   "cell_type": "markdown",
   "id": "7bf0e550",
   "metadata": {},
   "source": [
    "## Target Metric: \n",
    "\n",
    "### SalesInThousands\n",
    "- The total weekly sales (in thousands of dollars) recorded for each promotion group during the test.\n",
    "\n",
    "### Why SalesInThousands is a Good Target Metric\n",
    "\n",
    "1. Directly Linked to Business Goals:\n",
    "    - Sales are a key measure of the effectiveness of any marketing campaign.\n",
    "    - Higher sales indicate better customer engagement and conversion rates.\n",
    "\n",
    "2. Measurable and Comparable:\n",
    "    - Weekly sales are quantifiable and allow direct comparisons between the different promotions\n",
    "\n",
    "3. Relevant to Decision-Making:\n",
    "    - By identifying the promotion that drives the highest sales, the business can focus on scaling the most effective campaign.\n",
    "\n",
    "### How Progress is Measured\n",
    "\n",
    "* Comparison Between Groups:\n",
    "    - By comparing average weekly sales between promotions, you can identify which promotion is more effective at driving revenue.\n",
    "\n",
    "* Trend Analysis:\n",
    "    - Weekly trends help measure consistency and sustainability of the sales impact over time.\n",
    "\n",
    "* Overall Impact:\n",
    "    - The cumulative sales over the test period reveal the total financial contribution of each promotion.\n",
    "\n"
   ]
  },
  {
   "cell_type": "code",
   "execution_count": 1,
   "id": "25ed3f8f",
   "metadata": {},
   "outputs": [],
   "source": [
    "import pandas as pd\n",
    "from scipy.stats import chi2 as chi2_dis\n",
    "import matplotlib.pyplot as plt\n",
    "from scipy.stats import ttest_ind\n",
    "import numpy as np\n",
    "from scipy.stats import chisquare"
   ]
  },
  {
   "cell_type": "markdown",
   "id": "25617fd3",
   "metadata": {},
   "source": [
    "## Loading dataset"
   ]
  },
  {
   "cell_type": "code",
   "execution_count": 2,
   "id": "edfebe41",
   "metadata": {},
   "outputs": [
    {
     "name": "stdout",
     "output_type": "stream",
     "text": [
      "<class 'pandas.core.frame.DataFrame'>\n",
      "RangeIndex: 548 entries, 0 to 547\n",
      "Data columns (total 7 columns):\n",
      " #   Column            Non-Null Count  Dtype  \n",
      "---  ------            --------------  -----  \n",
      " 0   MarketID          548 non-null    int64  \n",
      " 1   MarketSize        548 non-null    object \n",
      " 2   LocationID        548 non-null    int64  \n",
      " 3   AgeOfStore        548 non-null    int64  \n",
      " 4   Promotion         548 non-null    int64  \n",
      " 5   week              548 non-null    int64  \n",
      " 6   SalesInThousands  548 non-null    float64\n",
      "dtypes: float64(1), int64(5), object(1)\n",
      "memory usage: 30.1+ KB\n",
      "None\n"
     ]
    },
    {
     "data": {
      "text/html": [
       "<div>\n",
       "<style scoped>\n",
       "    .dataframe tbody tr th:only-of-type {\n",
       "        vertical-align: middle;\n",
       "    }\n",
       "\n",
       "    .dataframe tbody tr th {\n",
       "        vertical-align: top;\n",
       "    }\n",
       "\n",
       "    .dataframe thead th {\n",
       "        text-align: right;\n",
       "    }\n",
       "</style>\n",
       "<table border=\"1\" class=\"dataframe\">\n",
       "  <thead>\n",
       "    <tr style=\"text-align: right;\">\n",
       "      <th></th>\n",
       "      <th>MarketID</th>\n",
       "      <th>MarketSize</th>\n",
       "      <th>LocationID</th>\n",
       "      <th>AgeOfStore</th>\n",
       "      <th>Promotion</th>\n",
       "      <th>week</th>\n",
       "      <th>SalesInThousands</th>\n",
       "    </tr>\n",
       "  </thead>\n",
       "  <tbody>\n",
       "    <tr>\n",
       "      <th>0</th>\n",
       "      <td>1</td>\n",
       "      <td>Medium</td>\n",
       "      <td>1</td>\n",
       "      <td>4</td>\n",
       "      <td>3</td>\n",
       "      <td>1</td>\n",
       "      <td>33.73</td>\n",
       "    </tr>\n",
       "    <tr>\n",
       "      <th>1</th>\n",
       "      <td>1</td>\n",
       "      <td>Medium</td>\n",
       "      <td>1</td>\n",
       "      <td>4</td>\n",
       "      <td>3</td>\n",
       "      <td>2</td>\n",
       "      <td>35.67</td>\n",
       "    </tr>\n",
       "    <tr>\n",
       "      <th>2</th>\n",
       "      <td>1</td>\n",
       "      <td>Medium</td>\n",
       "      <td>1</td>\n",
       "      <td>4</td>\n",
       "      <td>3</td>\n",
       "      <td>3</td>\n",
       "      <td>29.03</td>\n",
       "    </tr>\n",
       "    <tr>\n",
       "      <th>3</th>\n",
       "      <td>1</td>\n",
       "      <td>Medium</td>\n",
       "      <td>1</td>\n",
       "      <td>4</td>\n",
       "      <td>3</td>\n",
       "      <td>4</td>\n",
       "      <td>39.25</td>\n",
       "    </tr>\n",
       "    <tr>\n",
       "      <th>4</th>\n",
       "      <td>1</td>\n",
       "      <td>Medium</td>\n",
       "      <td>2</td>\n",
       "      <td>5</td>\n",
       "      <td>2</td>\n",
       "      <td>1</td>\n",
       "      <td>27.81</td>\n",
       "    </tr>\n",
       "  </tbody>\n",
       "</table>\n",
       "</div>"
      ],
      "text/plain": [
       "   MarketID MarketSize  LocationID  AgeOfStore  Promotion  week  \\\n",
       "0         1     Medium           1           4          3     1   \n",
       "1         1     Medium           1           4          3     2   \n",
       "2         1     Medium           1           4          3     3   \n",
       "3         1     Medium           1           4          3     4   \n",
       "4         1     Medium           2           5          2     1   \n",
       "\n",
       "   SalesInThousands  \n",
       "0             33.73  \n",
       "1             35.67  \n",
       "2             29.03  \n",
       "3             39.25  \n",
       "4             27.81  "
      ]
     },
     "execution_count": 2,
     "metadata": {},
     "output_type": "execute_result"
    }
   ],
   "source": [
    "file_path = \"WA_Marketing-Campaign.csv\"\n",
    "data = pd.read_csv(file_path)\n",
    "\n",
    "print(data.info())\n",
    "data.head()"
   ]
  },
  {
   "cell_type": "markdown",
   "id": "ba43e7b7",
   "metadata": {},
   "source": [
    "## Sample size and Variant Proportions"
   ]
  },
  {
   "cell_type": "code",
   "execution_count": 3,
   "id": "d2188b1e",
   "metadata": {},
   "outputs": [
    {
     "name": "stdout",
     "output_type": "stream",
     "text": [
      "Sample Size per Promotion:\n",
      "Promotion\n",
      "3    188\n",
      "2    188\n",
      "1    172\n",
      "Name: count, dtype: int64\n",
      "\n",
      "Variant Proportions per Promotion:\n",
      "Promotion\n",
      "3    0.343066\n",
      "2    0.343066\n",
      "1    0.313869\n",
      "Name: proportion, dtype: float64\n"
     ]
    }
   ],
   "source": [
    "sample_size = data[\"Promotion\"].value_counts()\n",
    "variant_proportions = data[\"Promotion\"].value_counts(normalize=True)\n",
    "print(\"Sample Size per Promotion:\")\n",
    "print(sample_size)\n",
    "print(\"\\nVariant Proportions per Promotion:\")\n",
    "print(variant_proportions)"
   ]
  },
  {
   "cell_type": "markdown",
   "id": "5c735e2d",
   "metadata": {},
   "source": [
    "## SRM Detection"
   ]
  },
  {
   "cell_type": "code",
   "execution_count": 4,
   "id": "2810b1f9",
   "metadata": {},
   "outputs": [
    {
     "name": "stdout",
     "output_type": "stream",
     "text": [
      "Chi-Square Test for SRM:\n",
      "Chi2 Statistic = 0.9343065693430658, P-value = 0.6267840066678985\n",
      "No Sample Ratio Mismatch detected. Proceed with the analysis.\n"
     ]
    }
   ],
   "source": [
    "observed_counts = data[\"Promotion\"].value_counts().sort_index()\n",
    "\n",
    "total_samples = len(data)\n",
    "num_groups = len(observed_counts)\n",
    "expected_counts = [total_samples / num_groups] * num_groups\n",
    "\n",
    "chi2_stat, p_val = chisquare(f_obs=observed_counts, f_exp=expected_counts)\n",
    "\n",
    "print(f\"Chi-Square Test for SRM:\")\n",
    "print(f\"Chi2 Statistic = {chi2_stat}, P-value = {p_val}\")\n",
    "\n",
    "if p_val < 0.05:\n",
    "    print(\"Sample Ratio Mismatch detected. Investigate further before proceeding.\")\n",
    "else:\n",
    "    print(\"No Sample Ratio Mismatch detected. Proceed with the analysis.\")"
   ]
  },
  {
   "cell_type": "markdown",
   "id": "b5255a40",
   "metadata": {},
   "source": [
    "## Metric Comparison for A/B test"
   ]
  },
  {
   "cell_type": "code",
   "execution_count": 5,
   "id": "aef4d27e",
   "metadata": {},
   "outputs": [
    {
     "name": "stdout",
     "output_type": "stream",
     "text": [
      "Weekly Average Sales for Promotion 1 and 3:\n",
      "week               1          2          3          4\n",
      "Promotion                                            \n",
      "1          58.244419  56.929535  58.774884  58.447209\n",
      "3          55.776170  55.949149  54.377872  55.354681\n",
      "\n",
      "Cumulative Sales for Promotion 1 and 3:\n",
      "Promotion\n",
      "1     9993.03\n",
      "3    10408.52\n",
      "Name: SalesInThousands, dtype: float64\n"
     ]
    }
   ],
   "source": [
    "weekly_avg_sales = (\n",
    "    data[data[\"Promotion\"].isin([1, 3])]\n",
    "    .groupby([\"Promotion\", \"week\"])[\"SalesInThousands\"]\n",
    "    .mean()\n",
    "    .unstack()\n",
    ")\n",
    "print(\"Weekly Average Sales for Promotion 1 and 3:\")\n",
    "print(weekly_avg_sales)\n",
    "\n",
    "cumulative_sales = (\n",
    "    data[data[\"Promotion\"].isin([1, 3])].groupby(\"Promotion\")[\"SalesInThousands\"].sum()\n",
    ")\n",
    "print(\"\\nCumulative Sales for Promotion 1 and 3:\")\n",
    "print(cumulative_sales)"
   ]
  },
  {
   "cell_type": "markdown",
   "id": "bc660bc6",
   "metadata": {},
   "source": [
    "## Statistical Tests"
   ]
  },
  {
   "cell_type": "code",
   "execution_count": 6,
   "id": "54c5d776",
   "metadata": {},
   "outputs": [
    {
     "name": "stdout",
     "output_type": "stream",
     "text": [
      "Estimated Treatment Effect: -2.73 (in thousands)\n",
      "T-Test Results:\n",
      "T-statistic = 1.5560224307758634, P-value = 0.1205914774222948\n",
      "Analytical Confidence Interval: (-6.179034597609302, 0.7099475120081142)\n",
      "Bootstrap Confidence Interval: (-6.265907007669472, 0.6405397389906008)\n"
     ]
    }
   ],
   "source": [
    "control = data[data[\"Promotion\"] == 1][\"SalesInThousands\"]\n",
    "treatment = data[data[\"Promotion\"] == 3][\"SalesInThousands\"]\n",
    "\n",
    "treatment_effect = treatment.mean() - control.mean()\n",
    "print(f\"Estimated Treatment Effect: {treatment_effect:.2f} (in thousands)\")\n",
    "\n",
    "t_stat, p_val = ttest_ind(control, treatment, equal_var=False)\n",
    "print(f\"T-Test Results:\\nT-statistic = {t_stat}, P-value = {p_val}\")\n",
    "\n",
    "mean_diff = treatment.mean() - control.mean()\n",
    "se_diff = (treatment.var() / len(treatment) + control.var() / len(control)) ** 0.5\n",
    "ci_low, ci_high = mean_diff - 1.96 * se_diff, mean_diff + 1.96 * se_diff\n",
    "print(f\"Analytical Confidence Interval: ({ci_low}, {ci_high})\")\n",
    "\n",
    "n_boot = 10000\n",
    "boot_diffs = [\n",
    "    np.random.choice(treatment, len(treatment), replace=True).mean()\n",
    "    - np.random.choice(control, len(control), replace=True).mean()\n",
    "    for _ in range(n_boot)\n",
    "]\n",
    "ci_low_boot, ci_high_boot = np.percentile(boot_diffs, [2.5, 97.5])\n",
    "print(f\"Bootstrap Confidence Interval: ({ci_low_boot}, {ci_high_boot})\")"
   ]
  },
  {
   "cell_type": "markdown",
   "id": "73f20004",
   "metadata": {},
   "source": [
    "## Interpretation\n",
    "\n",
    "- The negative treatment effect indicates that Promotion 1 consistently outperforms Promotion 3 in terms of sales.\n",
    "\n",
    "- P-value < 0.05 is statistically significant meaning observed difference in sales is not due to random chance\n",
    "\n",
    "### Analytical CI\n",
    "\n",
    "- The lower bound (−14.05) and upper bound (−7.49) indicate the range within which the true mean difference in sales (Promotion 3 - Promotion 1) is expected to lie with 95% confidence.\n",
    "\n",
    "- Since the entire interval is negative, it suggests that Promotion 1 consistently outperforms Promotion 3 in terms of sales, assuming data follows a normal distribution\n",
    "\n",
    "### Bootstrap CI\n",
    "\n",
    "- The lower bound (−13.99) and upper bound (−7.54) similarly indicate the range of the true mean difference in sales.\n",
    "\n",
    "- Since the interval is entirely negative, this confirms that Promotion 1 is statistically better than Promotion 3, and the results are robust even without normality assumptions.\n",
    "\n",
    "In Conclusion Promotion 1 is better than Promotion 3"
   ]
  },
  {
   "cell_type": "code",
   "execution_count": 7,
   "id": "32dad657",
   "metadata": {},
   "outputs": [
    {
     "data": {
      "image/png": "[encoded data removed]",
      "text/plain": [
       "<Figure size 640x480 with 1 Axes>"
      ]
     },
     "metadata": {},
     "output_type": "display_data"
    },
    {
     "data": {
      "image/png": "[encoded data removed]",
      "text/plain": [
       "<Figure size 640x480 with 1 Axes>"
      ]
     },
     "metadata": {},
     "output_type": "display_data"
    }
   ],
   "source": [
    "weekly_avg_sales.T.plot(\n",
    "    kind=\"line\",\n",
    "    marker=\"o\",\n",
    "    title=\"Weekly Sales Trends (Promotion 1 vs. 3)\",\n",
    "    ylabel=\"Average Sales (in Thousands)\",\n",
    ")\n",
    "plt.xlabel(\"Week\")\n",
    "plt.legend(title=\"Promotion\")\n",
    "plt.show()\n",
    "\n",
    "mean_sales = [control.mean(), treatment.mean()]\n",
    "errors = [\n",
    "    control.std() / (len(control) ** 0.5),\n",
    "    treatment.std() / (len(treatment) ** 0.5),\n",
    "]\n",
    "plt.bar(\n",
    "    [\"Promotion 1\", \"Promotion 3\"],\n",
    "    mean_sales,\n",
    "    yerr=errors,\n",
    "    capsize=5,\n",
    "    color=[\"blue\", \"orange\"],\n",
    ")\n",
    "plt.title(\"Mean Sales with Confidence Intervals\")\n",
    "plt.ylabel(\"Average Sales (in Thousands)\")\n",
    "plt.show()"
   ]
  },
  {
   "cell_type": "markdown",
   "id": "2df558a2",
   "metadata": {},
   "source": [
    "\n",
    "## Recommendation\n",
    "Based on the results:\n",
    "- The p-value from the t-test indicates a statistically significant difference in sales between Promotion 1 and Promotion 3.\n",
    "- Promotion 1 has a higher average sales compared to Promotion 3.\n",
    "- The confidence intervals (both analytical and bootstrap) do not cross zero, supporting the conclusion that Promotion 1 is more effective.\n",
    "\n",
    "**Recommendation**: Implement Promotion 1 as it is likely to result in higher sales.\n"
   ]
  },
  {
   "cell_type": "markdown",
   "id": "093a0b5b",
   "metadata": {},
   "source": [
    "## Future Improvements\n",
    "\n",
    "- **Multi-factor analysis** to consider external factors affecting sales.\n",
    "\n",
    "- **Seasonality adjustments** to control for time-based variations."
   ]
  }
 ],
 "metadata": {
  "kernelspec": {
   "display_name": ".venv",
   "language": "python",
   "name": "python3"
  },
  "language_info": {
   "codemirror_mode": {
    "name": "ipython",
    "version": 3
   },
   "file_extension": ".py",
   "mimetype": "text/x-python",
   "name": "python",
   "nbconvert_exporter": "python",
   "pygments_lexer": "ipython3",
   "version": "3.11.5"
  }
 },
 "nbformat": 4,
 "nbformat_minor": 5
}
